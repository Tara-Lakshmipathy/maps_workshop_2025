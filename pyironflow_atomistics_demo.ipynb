{
 "cells": [
  {
   "cell_type": "code",
   "execution_count": 1,
   "id": "6d417fe2-0ceb-4630-9865-f55662297298",
   "metadata": {},
   "outputs": [],
   "source": [
    "from pyironflow.pyironflow import PyironFlow, GUILayout\n",
    "from pyiron_workflow import Workflow"
   ]
  },
  {
   "cell_type": "markdown",
   "id": "41f413f3-d9c3-4458-83ae-fadf34f5061c",
   "metadata": {},
   "source": [
    "# pyironflow\n",
    "The visual programmming interface [pyironflow](https://github.com/pyiron/pyironFlow) is a gui skin based on [ReactFlow](https://reactflow.dev/) that works on top of [pyiron_workflow](https://github.com/pyiron/pyiron_workflow).</br>\n",
    "In this notebook, some example workflows in the atomistic scale (using [pyiron_atomistics](https://github.com/pyiron/pyiron_atomistics)) and the corresponding nodes can be tested. </br>"
   ]
  },
  {
   "cell_type": "markdown",
   "id": "b5a623b1-2f51-4d09-9a54-99962c9a9157",
   "metadata": {},
   "source": [
    "The next cell contains initial settings for adjusting the widget size to fit the screen.</br>\n",
    "Revisit the cell if needed and change the values according to your preference and reinstantiate the widget.\n",
    "* known bug: sometimes the widget does not change it's size on the first attempt, re-run the cell a few more times for the change to take place."
   ]
  },
  {
   "cell_type": "code",
   "execution_count": 14,
   "id": "1bbf66e7-2d62-479d-87f4-2975b449764b",
   "metadata": {},
   "outputs": [],
   "source": [
    "gui_layout = GUILayout()\n",
    "gui_layout.flow_widget_height = 700 # Change this value to adjust the height of the workflow area of the widget\n",
    "gui_layout.flow_widget_width = 1000 # Change this value to adjust the width of the workflow area of the widget\n",
    "gui_layout.output_widget_width = 500 # # Change this value to adjust the width of the output/node-library/log on the left"
   ]
  },
  {
   "cell_type": "markdown",
   "id": "4bf17f5b-8141-47fd-9a58-21021d3d23a0",
   "metadata": {},
   "source": [
    "## Preset workflows\n",
    "Below are a selection of preset workflows. Uncomment one of the lines and execute the cell.\n",
    "Then press \"Load Workflow\" to make the nodes appear.\n",
    "The available workflows are:\n",
    "* maths_example: some basic arithmetics including a node for custom equations\n",
    "* md_example: a simple molecular dynamics simulation using LAMMPS\n",
    "* opt_example: a simulation to find the optimal unit/primitive-cell size for a crystalline material using LAMMPS\n",
    "* murn_example: same as the previous, but this time fitting an equation of state to identify equilibrium parameters\n",
    "* vac_example: a simulation to find the vacancy formation enery in a crystalline material using LAMMPS\n",
    "* subs_example: a simulation to find the soluation energy of substituting an atom into a matrix using LAMMPS\n",
    "* my_workflow: an empty sandbox wokflow\n",
    "</br>\n",
    "</br>\n",
    "<b>A user guide can be found below the widget.</b>"
   ]
  },
  {
   "cell_type": "code",
   "execution_count": 18,
   "id": "11bd2be7-7871-4736-b39d-fb259dc392a3",
   "metadata": {},
   "outputs": [
    {
     "data": {
      "application/vnd.jupyter.widget-view+json": {
       "model_id": "ac313834b3924230ab791e54e3c06558",
       "version_major": 2,
       "version_minor": 0
      },
      "text/plain": [
       "HBox(children=(Accordion(children=(VBox(children=(Button(button_style='info', description='Refresh', style=But…"
      ]
     },
     "execution_count": 18,
     "metadata": {},
     "output_type": "execute_result"
    }
   ],
   "source": [
    "# pf = PyironFlow([Workflow(\"maths_example\")], root_path='pyiron_nodes', gui_layout=gui_layout)\n",
    "pf = PyironFlow([Workflow(\"md_example\")], root_path='pyiron_nodes', gui_layout=gui_layout)\n",
    "# pf = PyironFlow([Workflow(\"opt_example\")], root_path='pyiron_nodes', gui_layout=gui_layout)\n",
    "# pf = PyironFlow([Workflow(\"murn_example\")], root_path='pyiron_nodes', gui_layout=gui_layout)\n",
    "# pf = PyironFlow([Workflow(\"vac_example\")], root_path='pyiron_nodes', gui_layout=gui_layout)\n",
    "# pf = PyironFlow([Workflow(\"subs_example\")], root_path='pyiron_nodes', gui_layout=gui_layout)\n",
    "# pf = PyironFlow([Workflow(\"my_workflow\")], root_path='pyiron_nodes', gui_layout=gui_layout)\n",
    "pf.gui"
   ]
  },
  {
   "cell_type": "markdown",
   "id": "2ab5a289-f324-4c8e-a7c0-4e011dee4576",
   "metadata": {},
   "source": [
    "## User guide\n",
    "The following are some important features for using the widget. Some more known bugs are listed after the guide.\n",
    "### Node library:\n",
    "* Click on an item with a green icon in the node library to display nodes within a file in the `pyiron_nodes` folder.\n",
    "* Click on a node (red icon) to make it appear in the workflow area of the widget.\n",
    "### Basic features:\n",
    "* Use the mouse wheel to zoom in and out.\n",
    "* Hold left-click and move the mouse to pan.\n",
    "* Right-click will open the jupyter drop down menu for the cell and currrently has no functionality in the app.\n",
    "* Click on a node and press \"Run\" to execute the node and all upstream nodes that connect to it.\n",
    "* Left-click on a node, hold and move the mouse to move a node around.\n",
    "* Click on a node and press \"Source\" to view the source code of the function behind the node.\n",
    "* Change values in the editable fields and press \"Run\" to see updated results.\n",
    "* Click on an output port of a node and drag the line to a valid input port of another node to form a data-flow channel.</br>\n",
    "  If an input port of a node has both an incoming data channel and an editable field input, the data channel will be given priority.\n",
    "* Select a node or an edge by clicking on it, and then press \"backspace\" on the keyboard to delete.\n",
    "### More features:\n",
    "* Click on \"Reset Layout\" in the bottom-right of the workflow area to automatically rearrange nodes.\n",
    "* Click on \"Run Workflow\" in the top-right of the workflow area to run all nodes in the workflow area.\n",
    "* Hold shift+left-click and drag around nodes and edges to select them. Then click on \"Create Macro\" (top-right) to create a node with a sub-workflow (a macro).</br>\n",
    "  The created macro will appear in the node library in a green box with the name assigned to it (default: custom_macro).</br>\n",
    "  Click on it to make it appear in the workflow area.\n",
    "* \"Save workflow\" and \"Delete Save file\" or only valid for the current session of the binder.\n",
    "\n",
    "### Node status:\n",
    "* The square box next to the name of the node indicates the execution status of the node:</br>\n",
    "  White is for nodes not yet executed</br>\n",
    "  Green is for nodes that have been successfully executed</br>\n",
    "  Red is for failed nodes\n",
    "* Currently, the statuses are only updated after the execution."
   ]
  },
  {
   "cell_type": "markdown",
   "id": "913bb636-83c5-48f9-96d8-358fc85c729d",
   "metadata": {},
   "source": [
    "## Known bugs\n",
    "* Nodes and edges can sometimes disappear. Open a different file in the notebook (by clicking on the folder icon on the top-left) and then reopen this file to make the nodes/edges reappear.\n",
    "* Sometimes, clicking on an output port to start forming a data channel will not cause a line to appear. The solution to this is the same as the previous issue.\n",
    "* It may be needed to click on nodes, edges and node-library items twice to activate them.\n",
    "* The \"Create Macro\" functionality is still under development and may throw unexpted errors (e.g. * is already the label for a child) even with a valid selection.</br>\n",
    "  Reinstantiate the widget in such cases."
   ]
  },
  {
   "cell_type": "markdown",
   "id": "7e1fffba-c77b-4fe4-a993-c7cddc0ffcb9",
   "metadata": {},
   "source": [
    "## References for the workflows:\n",
    "* LAMMPS stands for Large-scale Atomic/Molecular Massively Parallel Simulator, a code for molecular dynamics simulations: https://docs.lammps.org/Manual.html\n",
    "* ASE is a python library used in `pyiron_atomistics` for creating and manipulating atomistic structures: https://wiki.fysik.dtu.dk/ase/index.html\n",
    "* An introduction to molecular dynamics: https://juser.fz-juelich.de/record/152581/files/FZJ-2014-02193.pdf\n",
    "* Structural optimization: https://docs.matlantis.com/atomistic-simulation-tutorial/en/2_1_opt.html\n",
    "* Equations of state: https://serc.carleton.edu/NAGTWorkshops/mineralogy/mineral_physics/eos.html\n",
    "* Vacancy formation energy: https://backend.orbit.dtu.dk/ws/files/4116174/Ruban.pdf\n",
    "* Solution energy: https://iopscience.iop.org/article/10.1088/2053-1591/acbe28/pdf"
   ]
  },
  {
   "cell_type": "code",
   "execution_count": null,
   "id": "1e2b8931-9e74-4bf9-b26d-2091dc26d8d3",
   "metadata": {},
   "outputs": [],
   "source": []
  }
 ],
 "metadata": {
  "kernelspec": {
   "display_name": "Python 3 (ipykernel)",
   "language": "python",
   "name": "python3"
  },
  "language_info": {
   "codemirror_mode": {
    "name": "ipython",
    "version": 3
   },
   "file_extension": ".py",
   "mimetype": "text/x-python",
   "name": "python",
   "nbconvert_exporter": "python",
   "pygments_lexer": "ipython3",
   "version": "3.12.2"
  }
 },
 "nbformat": 4,
 "nbformat_minor": 5
}
